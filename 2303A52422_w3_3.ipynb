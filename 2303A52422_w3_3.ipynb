{
  "nbformat": 4,
  "nbformat_minor": 0,
  "metadata": {
    "colab": {
      "provenance": [],
      "authorship_tag": "ABX9TyPm+a8/kS5tPDpOU1rMN2tL",
      "include_colab_link": true
    },
    "kernelspec": {
      "name": "python3",
      "display_name": "Python 3"
    },
    "language_info": {
      "name": "python"
    }
  },
  "cells": [
    {
      "cell_type": "markdown",
      "metadata": {
        "id": "view-in-github",
        "colab_type": "text"
      },
      "source": [
        "<a href=\"https://colab.research.google.com/github/harshith-coder/GENAI-2025/blob/main/2303A52422_w3_3.ipynb\" target=\"_parent\"><img src=\"https://colab.research.google.com/assets/colab-badge.svg\" alt=\"Open In Colab\"/></a>"
      ]
    },
    {
      "cell_type": "code",
      "execution_count": 12,
      "metadata": {
        "colab": {
          "base_uri": "https://localhost:8080/"
        },
        "id": "LOuAUmwu83qs",
        "outputId": "fce2a40f-49fa-4cea-b31b-d079757a05db"
      },
      "outputs": [
        {
          "output_type": "stream",
          "name": "stdout",
          "text": [
            "Minimum value of f(x): (0, 10)\n",
            "Minimum value of g(x, y): (0.0, 6.216917124174048, -74.4966642383909)\n",
            "Minimum value of z(x): (-4.510913300793877, 0.0108689868678633)\n",
            "Optimal M and C for model: (1.0003134972174896, 0.9995581316268213, 3.321234307086566e-08)\n"
          ]
        }
      ],
      "source": [
        "# 1. Finding x at which f(x) = 5x^4 + 3x^2 + 10 has a minimum value using Gradient Descent.\n",
        "def gradient_descent_f():\n",
        "    def f(x):\n",
        "        return 5 * x * 4 + 3 * x * 2 + 10\n",
        "\n",
        "    def f_derivative(x):\n",
        "        return 20 * x ** 3 + 6 * x\n",
        "\n",
        "    x = 0\n",
        "    learning_rate = 0.01\n",
        "    max_iterations = 10000\n",
        "    tolerance = 1e-6\n",
        "\n",
        "    for _ in range(max_iterations):\n",
        "        grad = f_derivative(x)\n",
        "        new_x = x - learning_rate * grad\n",
        "        if abs(new_x - x) < tolerance:\n",
        "            break\n",
        "        x = new_x\n",
        "\n",
        "    return x, f(x)\n",
        "\n",
        "# 2. Finding x and y at which g(x, y) = 3x^2 + 5e^(-y) + 10 has a minimum value using Gradient Descent.\n",
        "def gradient_descent_g():\n",
        "    def g(x, y):\n",
        "        return 3 * x * 2 + 5 * (2.718281828459045 * -y) + 10\n",
        "\n",
        "    def g_derivative_x(x):\n",
        "        return 6 * x\n",
        "\n",
        "    def g_derivative_y(y):\n",
        "        return -5 * (2.718281828459045 ** -y)\n",
        "\n",
        "    x, y = 0, 0\n",
        "    learning_rate = 0.01\n",
        "    max_iterations = 10000\n",
        "    tolerance = 1e-6\n",
        "\n",
        "    for _ in range(max_iterations):\n",
        "        grad_x = g_derivative_x(x)\n",
        "        grad_y = g_derivative_y(y)\n",
        "\n",
        "        new_x = x - learning_rate * grad_x\n",
        "        new_y = y - learning_rate * grad_y\n",
        "\n",
        "        if abs(new_x - x) < tolerance and abs(new_y - y) < tolerance:\n",
        "            break\n",
        "\n",
        "        x, y = new_x, new_y\n",
        "\n",
        "    return x, y, g(x, y)\n",
        "\n",
        "# 3. Finding x at which z(x) = 1 / (1 + e^(-x)) has a minimum value using Gradient Descent.\n",
        "def gradient_descent_z():\n",
        "    def z(x):\n",
        "        return 1 / (1 + 2.718281828459045 ** -x)\n",
        "\n",
        "    def z_derivative(x):\n",
        "        sigmoid = z(x)\n",
        "        return sigmoid * (1 - sigmoid)\n",
        "\n",
        "    x = 0\n",
        "    learning_rate = 0.01\n",
        "    max_iterations = 10000\n",
        "    tolerance = 1e-6\n",
        "\n",
        "    for _ in range(max_iterations):\n",
        "        grad = z_derivative(x)\n",
        "        new_x = x - learning_rate * grad\n",
        "        if abs(new_x - x) < tolerance:\n",
        "            break\n",
        "        x = new_x\n",
        "\n",
        "    return x, z(x)\n",
        "\n",
        "# 4. Finding optimal values of M and C for the model's square error (SE) minimization.\n",
        "def gradient_descent_model():\n",
        "    def square_error(M, C, data):\n",
        "        return sum((y - (M * x + C)) ** 2 for x, y in data) / len(data)\n",
        "\n",
        "    def gradients(M, C, data):\n",
        "        n = len(data)\n",
        "        dM = -2 / n * sum(x * (y - (M * x + C)) for x, y in data)\n",
        "        dC = -2 / n * sum((y - (M * x + C)) for x, y in data)\n",
        "        return dM, dC\n",
        "\n",
        "    data = [(0.5, 1.5), (1, 2), (1.5, 2.5), (2, 3)]\n",
        "    M, C = 0, 0\n",
        "    learning_rate = 0.01\n",
        "    max_iterations = 10000\n",
        "    tolerance = 1e-6\n",
        "\n",
        "    for _ in range(max_iterations):\n",
        "        dM, dC = gradients(M, C, data)\n",
        "        new_M = M - learning_rate * dM\n",
        "        new_C = C - learning_rate * dC\n",
        "\n",
        "        if abs(new_M - M) < tolerance and abs(new_C - C) < tolerance:\n",
        "            break\n",
        "\n",
        "        M, C = new_M, new_C\n",
        "\n",
        "    return M, C, square_error(M, C, data)\n",
        "\n",
        "if __name__ == \"__main__\":\n",
        "    print(\"Minimum value of f(x):\", gradient_descent_f())\n",
        "    print(\"Minimum value of g(x, y):\", gradient_descent_g())\n",
        "    print(\"Minimum value of z(x):\", gradient_descent_z())\n",
        "    print(\"Optimal M and C for model:\", gradient_descent_model())"
      ]
    }
  ]
}