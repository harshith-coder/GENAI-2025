{
  "nbformat": 4,
  "nbformat_minor": 0,
  "metadata": {
    "colab": {
      "provenance": [],
      "authorship_tag": "ABX9TyOfBl5n0BXgD0SnP4dh/sYO",
      "include_colab_link": true
    },
    "kernelspec": {
      "name": "python3",
      "display_name": "Python 3"
    },
    "language_info": {
      "name": "python"
    }
  },
  "cells": [
    {
      "cell_type": "markdown",
      "metadata": {
        "id": "view-in-github",
        "colab_type": "text"
      },
      "source": [
        "<a href=\"https://colab.research.google.com/github/harshith-coder/GENAI-2025/blob/main/2303A52422_W1_1.ipynb\" target=\"_parent\"><img src=\"https://colab.research.google.com/assets/colab-badge.svg\" alt=\"Open In Colab\"/></a>"
      ]
    },
    {
      "cell_type": "code",
      "execution_count": 1,
      "metadata": {
        "colab": {
          "base_uri": "https://localhost:8080/"
        },
        "id": "XWzoUtpfAoc_",
        "outputId": "31256bc1-8d31-4569-c8e5-deea75186b34"
      },
      "outputs": [
        {
          "output_type": "stream",
          "name": "stdout",
          "text": [
            "Custom Error Metrics:\n",
            "Mean Absolute Error: 0.4600000000000016\n",
            "Mean Squared Error: 0.24600000000000147\n",
            "Root Mean Squared Error: 0.49598387070549127\n",
            "R-squared: 0.99877\n",
            "\n",
            "Sklearn Error Metrics:\n",
            "Mean Absolute Error: 0.4600000000000016\n",
            "Mean Squared Error: 0.24600000000000147\n",
            "Root Mean Squared Error: 0.49598387070549127\n",
            "R-squared: 0.99877\n"
          ]
        }
      ],
      "source": [
        "import numpy as np\n",
        "from sklearn.metrics import mean_absolute_error, mean_squared_error, r2_score\n",
        "\n",
        "# Actual and predicted values from Table 1\n",
        "Y_actual = np.array([20, 30, 40, 50, 60])\n",
        "Y_pred = np.array([20.5, 30.3, 40.2, 50.6, 60.7])\n",
        "\n",
        "# Custom functions to calculate error metrics\n",
        "def calculate_error_metrics(y_actual, y_pred):\n",
        "    mae = np.mean(np.abs(y_actual - y_pred))  # Mean Absolute Error\n",
        "    mse = np.mean((y_actual - y_pred) ** 2)   # Mean Squared Error\n",
        "    rmse = np.sqrt(mse)                        # Root Mean Squared Error\n",
        "    r2 = r2_score(y_actual, y_pred)           # R-squared\n",
        "    return mae, mse, rmse, r2\n",
        "\n",
        "# Calculate error metrics\n",
        "mae, mse, rmse, r2 = calculate_error_metrics(Y_actual, Y_pred)\n",
        "\n",
        "# Print custom results\n",
        "print(\"Custom Error Metrics:\")\n",
        "print(f\"Mean Absolute Error: {mae}\")\n",
        "print(f\"Mean Squared Error: {mse}\")\n",
        "print(f\"Root Mean Squared Error: {rmse}\")\n",
        "print(f\"R-squared: {r2}\")\n",
        "\n",
        "# Compare with sklearn\n",
        "mae_sklearn = mean_absolute_error(Y_actual, Y_pred)\n",
        "mse_sklearn = mean_squared_error(Y_actual, Y_pred)\n",
        "rmse_sklearn = np.sqrt(mse_sklearn)\n",
        "r2_sklearn = r2_score(Y_actual, Y_pred)\n",
        "\n",
        "print(\"\\nSklearn Error Metrics:\")\n",
        "print(f\"Mean Absolute Error: {mae_sklearn}\")\n",
        "print(f\"Mean Squared Error: {mse_sklearn}\")\n",
        "print(f\"Root Mean Squared Error: {rmse_sklearn}\")\n",
        "print(f\"R-squared: {r2_sklearn}\")"
      ]
    },
    {
      "cell_type": "code",
      "source": [
        "import numpy as np\n",
        "from sklearn.metrics import accuracy_score, precision_score, recall_score, f1_score, classification_report\n",
        "\n",
        "YActual = [0, 0, 0, 0, 0]\n",
        "YPred = [0, 0, 1, 2, 2]\n",
        "\n",
        "\n",
        "def calculate_metrics(y_actual, y_pred):\n",
        "    classes = np.unique(y_actual + y_pred)\n",
        "    tp = {cls: 0 for cls in classes}\n",
        "    fp = {cls: 0 for cls in classes}\n",
        "    fn = {cls: 0 for cls in classes}\n",
        "\n",
        "    for actual, pred in zip(y_actual, y_pred):\n",
        "        if actual == pred:\n",
        "            tp[actual] += 1\n",
        "        else:\n",
        "            fp[pred] += 1\n",
        "            fn[actual] += 1\n",
        "\n",
        "    metrics = {}\n",
        "    for cls in classes:\n",
        "        precision = tp[cls] / (tp[cls] + fp[cls]) if (tp[cls] + fp[cls]) > 0 else 0\n",
        "        recall = tp[cls] / (tp[cls] + fn[cls]) if (tp[cls] + fn[cls]) > 0 else 0\n",
        "        f1 = (2 * precision * recall) / (precision + recall) if (precision + recall) > 0 else 0\n",
        "        metrics[cls] = {\"Precision\": precision, \"Recall\": recall, \"F1 Score\": f1}\n",
        "\n",
        "    accuracy = sum(tp.values()) / len(y_actual)\n",
        "    return accuracy, metrics\n",
        "\n",
        "\n",
        "accuracy_manual, metrics_manual = calculate_metrics(YActual, YPred)\n",
        "\n",
        "\n",
        "accuracy_lib = accuracy_score(YActual, YPred)\n",
        "precision_lib = precision_score(YActual, YPred, average=None, labels=np.unique(YActual))\n",
        "recall_lib = recall_score(YActual, YPred, average=None, labels=np.unique(YActual))\n",
        "f1_lib = f1_score(YActual, YPred, average=None, labels=np.unique(YActual))\n",
        "report_lib = classification_report(YActual, YPred, zero_division=0)\n",
        "\n",
        "\n",
        "print(\"Manual Calculation:\")\n",
        "print(f\"Accuracy: {accuracy_manual}\")\n",
        "for cls, metrics in metrics_manual.items():\n",
        "    print(f\"Class {cls}: Precision: {metrics['Precision']}, Recall: {metrics['Recall']}, F1 Score: {metrics['F1 Score']}\")\n",
        "\n",
        "print(\"\\nUsing Libraries:\")\n",
        "print(f\"Accuracy: {accuracy_lib}\")\n",
        "for idx, cls in enumerate(np.unique(YActual)):\n",
        "    print(f\"Class {cls}: Precision: {precision_lib[idx]}, Recall: {recall_lib[idx]}, F1 Score: {f1_lib[idx]}\")\n",
        "print(\"\\nDetailed Report:\\n\", report_lib)"
      ],
      "metadata": {
        "colab": {
          "base_uri": "https://localhost:8080/"
        },
        "id": "xNyEe98pC-of",
        "outputId": "fb5d7654-f610-4286-e595-cfc044620c5c"
      },
      "execution_count": 2,
      "outputs": [
        {
          "output_type": "stream",
          "name": "stdout",
          "text": [
            "Manual Calculation:\n",
            "Accuracy: 0.4\n",
            "Class 0: Precision: 1.0, Recall: 0.4, F1 Score: 0.5714285714285715\n",
            "Class 1: Precision: 0.0, Recall: 0, F1 Score: 0\n",
            "Class 2: Precision: 0.0, Recall: 0, F1 Score: 0\n",
            "\n",
            "Using Libraries:\n",
            "Accuracy: 0.4\n",
            "Class 0: Precision: 1.0, Recall: 0.4, F1 Score: 0.5714285714285714\n",
            "\n",
            "Detailed Report:\n",
            "               precision    recall  f1-score   support\n",
            "\n",
            "           0       1.00      0.40      0.57         5\n",
            "           1       0.00      0.00      0.00         0\n",
            "           2       0.00      0.00      0.00         0\n",
            "\n",
            "    accuracy                           0.40         5\n",
            "   macro avg       0.33      0.13      0.19         5\n",
            "weighted avg       1.00      0.40      0.57         5\n",
            "\n"
          ]
        }
      ]
    }
  ]
}